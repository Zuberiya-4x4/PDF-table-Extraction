{
 "cells": [
  {
   "cell_type": "code",
   "execution_count": null,
   "id": "48dbf02b",
   "metadata": {},
   "outputs": [
    {
     "name": "stdout",
     "output_type": "stream",
     "text": [
      "✅ Camelot table extraction complete.\n"
     ]
    },
    {
     "name": "stderr",
     "output_type": "stream",
     "text": [
      "d:\\Task-3\\env\\lib\\site-packages\\camelot\\parsers\\base.py:124: UserWarning: page-1 is image-based, camelot only works on text-based pages.\n",
      "  warnings.warn(\n",
      "d:\\Task-3\\env\\lib\\site-packages\\camelot\\parsers\\base.py:124: UserWarning: page-2 is image-based, camelot only works on text-based pages.\n",
      "  warnings.warn(\n"
     ]
    }
   ],
   "source": [
    "import camelot\n",
    "import os\n",
    "\n",
    "# List of full file paths to your PDFs\n",
    "pdf_types = {\n",
    "    \"sample_table_1.pdf\": \"table\",\n",
    "    \"sample-invoice.pdf\": \"invoice\",\n",
    "    \"statement_sample1.pdf\": \"statement\",\n",
    "    \"fs023-sample-financial-statements.pdf\": \"financial-statement\",\n",
    "    \"EDIT OoPdfFormExample.pdf\": \"forms\"\n",
    "}\n",
    "\n",
    "# List of actual PDF file paths\n",
    "pdfs = [\n",
    "    r\"C:\\Users\\SyedaZuberiya\\Downloads\\sample_table_1.pdf\",\n",
    "    r\"C:\\Users\\SyedaZuberiya\\Downloads\\sample-invoice.pdf\",\n",
    "    r\"C:\\Users\\SyedaZuberiya\\Downloads\\fs023-sample-financial-statements.pdf\",\n",
    "    r\"C:\\Users\\SyedaZuberiya\\Downloads\\dummy_statement.pdf\",\n",
    "    r\"C:\\Users\\SyedaZuberiya\\Downloads\\EDIT OoPdfFormExample.pdf\"\n",
    "]\n",
    "\n",
    "\n",
    "# Output directory\n",
    "output_directory = \"extracted_camelot_tables\"\n",
    "os.makedirs(output_directory, exist_ok=True)\n",
    "\n",
    "# Loop through each PDF\n",
    "for pdf in pdfs:\n",
    "    filename = os.path.basename(pdf)  # Just the file name, e.g., sample_table_1.pdf\n",
    "    # Extract tables using Camelot (flavor can be 'stream' or 'lattice')\n",
    "    tables = camelot.read_pdf(pdf, pages='all', flavor='stream')\n",
    "\n",
    "    for i, table in enumerate(tables):\n",
    "        out_path = os.path.join(output_directory, f\"camelot_{filename[:-4]}_t{i+1}.csv\")\n",
    "        table.df.to_csv(out_path, index=False)\n",
    "\n",
    "print(\"Camelot table extraction complete.\")"
   ]
  }
 ],
 "metadata": {
  "kernelspec": {
   "display_name": "env",
   "language": "python",
   "name": "python3"
  },
  "language_info": {
   "codemirror_mode": {
    "name": "ipython",
    "version": 3
   },
   "file_extension": ".py",
   "mimetype": "text/x-python",
   "name": "python",
   "nbconvert_exporter": "python",
   "pygments_lexer": "ipython3",
   "version": "3.10.10"
  }
 },
 "nbformat": 4,
 "nbformat_minor": 5
}
