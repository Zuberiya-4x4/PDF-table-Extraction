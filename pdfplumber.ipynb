{
 "cells": [
  {
   "cell_type": "code",
   "execution_count": null,
   "id": "6275592e",
   "metadata": {},
   "outputs": [],
   "source": [
    "import pdfplumber  \n",
    "import pandas as pd  \n",
    "import os\n",
    "\n",
    "# Map file names to descriptive labels\n",
    "pdf_types = {\n",
    "    \"sample_table_1.pdf\": \"table\",\n",
    "    \"sample-invoice.pdf\": \"invoice\",\n",
    "    \"statement_sample1.pdf\": \"statement\",\n",
    "    \"fs023-sample-financial-statements.pdf\": \"financial-statement\",\n",
    "    \"EDIT OoPdfFormExample.pdf\": \"forms\"\n",
    "}\n",
    "\n",
    "# List of actual PDF file paths\n",
    "pdfs = [\n",
    "    r\"C:\\Users\\SyedaZuberiya\\Downloads\\sample_table_1.pdf\",\n",
    "    r\"C:\\Users\\SyedaZuberiya\\Downloads\\sample-invoice.pdf\",\n",
    "    r\"C:\\Users\\SyedaZuberiya\\Downloads\\fs023-sample-financial-statements.pdf\",\n",
    "    r\"C:\\Users\\SyedaZuberiya\\Downloads\\dummy_statement.pdf\",\n",
    "    r\"C:\\Users\\SyedaZuberiya\\Downloads\\EDIT OoPdfFormExample.pdf\"\n",
    "]\n",
    "\n",
    "# Create output folder\n",
    "output_directory = \"extracted_tables\"\n",
    "os.makedirs(output_directory, exist_ok=True)\n",
    "\n",
    "# Process each PDF\n",
    "for pdf in pdfs:  \n",
    "    filename = os.path.basename(pdf)\n",
    "    label = pdf_types.get(filename, \"unknown\")  # Fallback to \"unknown\" if not in dictionary\n",
    "    with pdfplumber.open(pdf) as pdf_file:  \n",
    "        for page_num, page in enumerate(pdf_file.pages):  \n",
    "            tables = page.extract_tables()  \n",
    "            for i, table in enumerate(tables):  \n",
    "                df = pd.DataFrame(table[1:], columns=table[0])  \n",
    "                out_path = os.path.join(output_directory, f\"{label}_p{page_num+1}_t{i+1}.csv\")\n",
    "                df.to_csv(out_path, index=False)"
   ]
  }
 ],
 "metadata": {
  "kernelspec": {
   "display_name": "env",
   "language": "python",
   "name": "python3"
  },
  "language_info": {
   "codemirror_mode": {
    "name": "ipython",
    "version": 3
   },
   "file_extension": ".py",
   "mimetype": "text/x-python",
   "name": "python",
   "nbconvert_exporter": "python",
   "pygments_lexer": "ipython3",
   "version": "3.10.10"
  }
 },
 "nbformat": 4,
 "nbformat_minor": 5
}
